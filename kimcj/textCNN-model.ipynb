{
 "cells": [
  {
   "cell_type": "markdown",
   "id": "e414e16e",
   "metadata": {
    "id": "DgbjwNJWZryC"
   },
   "source": [
    "## 모델 학습하기\n",
    "철헌님 코드 활용하였습니다."
   ]
  },
  {
   "cell_type": "code",
   "execution_count": 15,
   "id": "455c4302",
   "metadata": {
    "id": "FVgjX4sLmWaw"
   },
   "outputs": [],
   "source": [
    "# import konlpy and other libraries to analyse Korean text data\n",
    "from konlpy.tag import Kkma\n",
    "\n",
    "# create an instance of Kkma and Okt\n",
    "kkma = Kkma()"
   ]
  },
  {
   "cell_type": "code",
   "execution_count": 16,
   "id": "f23ca149",
   "metadata": {
    "id": "1382c380-90ac-4431-a73c-0b7c68489077",
    "scrolled": false
   },
   "outputs": [],
   "source": [
    "import pandas as pd\n",
    "import numpy as np\n",
    "import matplotlib.pyplot as plt\n",
    "import seaborn as sns\n",
    "import tensorflow as tf\n",
    "import os\n",
    "\n",
    "from tensorflow.keras.preprocessing.text import Tokenizer\n",
    "from tensorflow.keras.preprocessing.sequence import pad_sequences\n",
    "from sklearn.model_selection import train_test_split\n",
    "\n",
    "\n",
    "\n",
    "from tensorflow.keras.models import Sequential\n",
    "from tensorflow.keras import regularizers\n",
    "from tensorflow.keras.layers import Embedding, Dense, Dropout, Conv1D, GlobalMaxPooling1D, BatchNormalization\n",
    "\n",
    "from sklearn.metrics import f1_score, classification_report, confusion_matrix, accuracy_score\n",
    "\n",
    "from gensim.models import Word2Vec\n",
    "from konlpy.tag import Okt\n",
    "\n",
    "import pickle\n",
    "from tensorflow.keras.optimizers import Adam"
   ]
  },
  {
   "cell_type": "code",
   "execution_count": 17,
   "id": "bb44d280",
   "metadata": {
    "id": "7ba98bbb-e6bc-4a29-869f-868dc1ba1a45"
   },
   "outputs": [],
   "source": [
    "train_data = pd.read_csv(os.getcwd() + '/sns_syn_sent_augment.csv')"
   ]
  },
  {
   "cell_type": "markdown",
   "id": "cefbffc2",
   "metadata": {
    "id": "2b4ccbd2-7fa2-4ae1-81aa-7ffdaf8363b5"
   },
   "source": [
    "#### 이미 전처리해서 중복 등을 제거한 좋은 데이터로 시작\n",
    "각 클래스는 정수인코딩 되어있고   \n",
    "협박 대화 = 0,  \n",
    "갈취 대화 = 1,  \n",
    "직장 내 괴롭힘 대화 = 2,  \n",
    "기타 괴롭힘 대화 = 3,  \n",
    "일반 = 4   "
   ]
  },
  {
   "cell_type": "code",
   "execution_count": 18,
   "id": "106dc0ed",
   "metadata": {
    "colab": {
     "base_uri": "https://localhost:8080/",
     "height": 423
    },
    "id": "b04859a3-c8b7-4a51-95e9-9cc45508e3ba",
    "outputId": "de8a7b08-ae00-4e10-f11e-c42fb726e8f0",
    "scrolled": false
   },
   "outputs": [
    {
     "data": {
      "text/html": [
       "<div>\n",
       "<style scoped>\n",
       "    .dataframe tbody tr th:only-of-type {\n",
       "        vertical-align: middle;\n",
       "    }\n",
       "\n",
       "    .dataframe tbody tr th {\n",
       "        vertical-align: top;\n",
       "    }\n",
       "\n",
       "    .dataframe thead th {\n",
       "        text-align: right;\n",
       "    }\n",
       "</style>\n",
       "<table border=\"1\" class=\"dataframe\">\n",
       "  <thead>\n",
       "    <tr style=\"text-align: right;\">\n",
       "      <th></th>\n",
       "      <th>conversation</th>\n",
       "      <th>class</th>\n",
       "    </tr>\n",
       "  </thead>\n",
       "  <tbody>\n",
       "    <tr>\n",
       "      <th>0</th>\n",
       "      <td>선택권이 것인가 너가 네 . 거면 죽여버려야겠군 정말 죽여달라고 혼자 . ? . 선...</td>\n",
       "      <td>0</td>\n",
       "    </tr>\n",
       "    <tr>\n",
       "      <th>1</th>\n",
       "      <td>지금 너 스스로를 죽여달라고 애원하는 것인가 ? 아닙니다 . 죄송합니다 . 죽을 거...</td>\n",
       "      <td>0</td>\n",
       "    </tr>\n",
       "    <tr>\n",
       "      <th>2</th>\n",
       "      <td>지금 너 애원하는 것인가 아닙니다 . 죄송합니다 . 죽을 혼자 죽지 우리까지 사건에...</td>\n",
       "      <td>0</td>\n",
       "    </tr>\n",
       "    <tr>\n",
       "      <th>3</th>\n",
       "      <td>장난전화는 진정하세요 얘기한다 너에게 달려있다 장난전화 재미있겠지 더 터지면 선생님...</td>\n",
       "      <td>0</td>\n",
       "    </tr>\n",
       "    <tr>\n",
       "      <th>4</th>\n",
       "      <td>길동경찰서입니다 . 시 분 마트에 폭발물을 설치할거다 . 네 ? 똑바로 들어 한번만...</td>\n",
       "      <td>0</td>\n",
       "    </tr>\n",
       "    <tr>\n",
       "      <th>...</th>\n",
       "      <td>...</td>\n",
       "      <td>...</td>\n",
       "    </tr>\n",
       "    <tr>\n",
       "      <th>45673</th>\n",
       "      <td>슈룹 시청률 머박! 렬루다가? 치솟았어 어디서 봤어? tvN에서 방영 중이야 시청률...</td>\n",
       "      <td>4</td>\n",
       "    </tr>\n",
       "    <tr>\n",
       "      <th>45674</th>\n",
       "      <td>슈룹 시청률 머박! 렬루다가? 어디서 봤어? tvN에서 방영 중이야 시청률이 되는데...</td>\n",
       "      <td>4</td>\n",
       "    </tr>\n",
       "    <tr>\n",
       "      <th>45675</th>\n",
       "      <td>도와서 기대해볼게 힐링되면서도 마음 안녕! 봤어 한번 방송이라 얘기하자 가! 의뢰인...</td>\n",
       "      <td>4</td>\n",
       "    </tr>\n",
       "    <tr>\n",
       "      <th>45676</th>\n",
       "      <td>이상한 변호사 우영우 너무 재밌어! 응! 나도 매주 기다려! 어제 방송 어땠어? 오...</td>\n",
       "      <td>4</td>\n",
       "    </tr>\n",
       "    <tr>\n",
       "      <th>45677</th>\n",
       "      <td>이상한 변호사 우영우 나도 방송 어땠어? 오늘 방송이라 봤어 아 마지막 재밌었는데 ...</td>\n",
       "      <td>4</td>\n",
       "    </tr>\n",
       "  </tbody>\n",
       "</table>\n",
       "<p>45678 rows × 2 columns</p>\n",
       "</div>"
      ],
      "text/plain": [
       "                                            conversation  class\n",
       "0      선택권이 것인가 너가 네 . 거면 죽여버려야겠군 정말 죽여달라고 혼자 . ? . 선...      0\n",
       "1      지금 너 스스로를 죽여달라고 애원하는 것인가 ? 아닙니다 . 죄송합니다 . 죽을 거...      0\n",
       "2      지금 너 애원하는 것인가 아닙니다 . 죄송합니다 . 죽을 혼자 죽지 우리까지 사건에...      0\n",
       "3      장난전화는 진정하세요 얘기한다 너에게 달려있다 장난전화 재미있겠지 더 터지면 선생님...      0\n",
       "4      길동경찰서입니다 . 시 분 마트에 폭발물을 설치할거다 . 네 ? 똑바로 들어 한번만...      0\n",
       "...                                                  ...    ...\n",
       "45673  슈룹 시청률 머박! 렬루다가? 치솟았어 어디서 봤어? tvN에서 방영 중이야 시청률...      4\n",
       "45674  슈룹 시청률 머박! 렬루다가? 어디서 봤어? tvN에서 방영 중이야 시청률이 되는데...      4\n",
       "45675  도와서 기대해볼게 힐링되면서도 마음 안녕! 봤어 한번 방송이라 얘기하자 가! 의뢰인...      4\n",
       "45676  이상한 변호사 우영우 너무 재밌어! 응! 나도 매주 기다려! 어제 방송 어땠어? 오...      4\n",
       "45677  이상한 변호사 우영우 나도 방송 어땠어? 오늘 방송이라 봤어 아 마지막 재밌었는데 ...      4\n",
       "\n",
       "[45678 rows x 2 columns]"
      ]
     },
     "execution_count": 18,
     "metadata": {},
     "output_type": "execute_result"
    }
   ],
   "source": [
    "train_data"
   ]
  },
  {
   "cell_type": "code",
   "execution_count": 19,
   "id": "64bff87e",
   "metadata": {
    "id": "p9983exG8Jha"
   },
   "outputs": [
    {
     "data": {
      "text/html": [
       "<div>\n",
       "<style scoped>\n",
       "    .dataframe tbody tr th:only-of-type {\n",
       "        vertical-align: middle;\n",
       "    }\n",
       "\n",
       "    .dataframe tbody tr th {\n",
       "        vertical-align: top;\n",
       "    }\n",
       "\n",
       "    .dataframe thead th {\n",
       "        text-align: right;\n",
       "    }\n",
       "</style>\n",
       "<table border=\"1\" class=\"dataframe\">\n",
       "  <thead>\n",
       "    <tr style=\"text-align: right;\">\n",
       "      <th></th>\n",
       "      <th>conversation</th>\n",
       "      <th>class</th>\n",
       "    </tr>\n",
       "  </thead>\n",
       "  <tbody>\n",
       "    <tr>\n",
       "      <th>0</th>\n",
       "      <td>선택권이 것인가 너가 네 . 거면 죽여버려야겠군 정말 죽여달라고 혼자 . ? . 선...</td>\n",
       "      <td>0</td>\n",
       "    </tr>\n",
       "    <tr>\n",
       "      <th>2</th>\n",
       "      <td>지금 너 애원하는 것인가 아닙니다 . 죄송합니다 . 죽을 혼자 죽지 우리까지 사건에...</td>\n",
       "      <td>0</td>\n",
       "    </tr>\n",
       "    <tr>\n",
       "      <th>4</th>\n",
       "      <td>길동경찰서입니다 . 시 분 마트에 폭발물을 설치할거다 . 네 ? 똑바로 들어 한번만...</td>\n",
       "      <td>0</td>\n",
       "    </tr>\n",
       "    <tr>\n",
       "      <th>6</th>\n",
       "      <td>놀리는거 장가가고하던데 너도 도 작은데 그거 . 안돼는거네 너 . ? 군대도 너 그...</td>\n",
       "      <td>3</td>\n",
       "    </tr>\n",
       "    <tr>\n",
       "      <th>8</th>\n",
       "      <td>너 귀여운거 알지 ? 나보다 작은 첨봤어 . 그만해 니들 재미없어 . 너가 키 이지...</td>\n",
       "      <td>3</td>\n",
       "    </tr>\n",
       "    <tr>\n",
       "      <th>...</th>\n",
       "      <td>...</td>\n",
       "      <td>...</td>\n",
       "    </tr>\n",
       "    <tr>\n",
       "      <th>45668</th>\n",
       "      <td>스물다섯 봤어? 응 너무 김태리랑 남주혁 케미 진짜 좋았지? 너무 이쁘고 쩔더라 그...</td>\n",
       "      <td>4</td>\n",
       "    </tr>\n",
       "    <tr>\n",
       "      <th>45670</th>\n",
       "      <td>빅마우스 드라마 볼래? 나는 드라마 잘 안 봐 레알? 빅마우스는 굉장히 흥미로운 내...</td>\n",
       "      <td>4</td>\n",
       "    </tr>\n",
       "    <tr>\n",
       "      <th>45672</th>\n",
       "      <td>추천해줘서 슈룹은 복수 김혜수 안녕! 14.8%에서 재밌게 중이야 레게노다 별말씀을...</td>\n",
       "      <td>4</td>\n",
       "    </tr>\n",
       "    <tr>\n",
       "      <th>45674</th>\n",
       "      <td>슈룹 시청률 머박! 렬루다가? 어디서 봤어? tvN에서 방영 중이야 시청률이 되는데...</td>\n",
       "      <td>4</td>\n",
       "    </tr>\n",
       "    <tr>\n",
       "      <th>45676</th>\n",
       "      <td>이상한 변호사 우영우 너무 재밌어! 응! 나도 매주 기다려! 어제 방송 어땠어? 오...</td>\n",
       "      <td>4</td>\n",
       "    </tr>\n",
       "  </tbody>\n",
       "</table>\n",
       "<p>22839 rows × 2 columns</p>\n",
       "</div>"
      ],
      "text/plain": [
       "                                            conversation  class\n",
       "0      선택권이 것인가 너가 네 . 거면 죽여버려야겠군 정말 죽여달라고 혼자 . ? . 선...      0\n",
       "2      지금 너 애원하는 것인가 아닙니다 . 죄송합니다 . 죽을 혼자 죽지 우리까지 사건에...      0\n",
       "4      길동경찰서입니다 . 시 분 마트에 폭발물을 설치할거다 . 네 ? 똑바로 들어 한번만...      0\n",
       "6      놀리는거 장가가고하던데 너도 도 작은데 그거 . 안돼는거네 너 . ? 군대도 너 그...      3\n",
       "8      너 귀여운거 알지 ? 나보다 작은 첨봤어 . 그만해 니들 재미없어 . 너가 키 이지...      3\n",
       "...                                                  ...    ...\n",
       "45668  스물다섯 봤어? 응 너무 김태리랑 남주혁 케미 진짜 좋았지? 너무 이쁘고 쩔더라 그...      4\n",
       "45670  빅마우스 드라마 볼래? 나는 드라마 잘 안 봐 레알? 빅마우스는 굉장히 흥미로운 내...      4\n",
       "45672  추천해줘서 슈룹은 복수 김혜수 안녕! 14.8%에서 재밌게 중이야 레게노다 별말씀을...      4\n",
       "45674  슈룹 시청률 머박! 렬루다가? 어디서 봤어? tvN에서 방영 중이야 시청률이 되는데...      4\n",
       "45676  이상한 변호사 우영우 너무 재밌어! 응! 나도 매주 기다려! 어제 방송 어땠어? 오...      4\n",
       "\n",
       "[22839 rows x 2 columns]"
      ]
     },
     "execution_count": 19,
     "metadata": {},
     "output_type": "execute_result"
    }
   ],
   "source": [
    "# 레코드를 일부만 가져오기\n",
    "data_skipped_2 = train_data[train_data.index % 2 == 0] # 22839개 레코드\n",
    "data_skipped_2"
   ]
  },
  {
   "cell_type": "markdown",
   "id": "370a5afb",
   "metadata": {
    "id": "43acbf18-a9dd-4d02-9bbd-4a8f89367989"
   },
   "source": [
    "#### 한국어 형태소 분석 후 word2vec"
   ]
  },
  {
   "cell_type": "code",
   "execution_count": 20,
   "id": "f85a3c76",
   "metadata": {},
   "outputs": [
    {
     "data": {
      "text/html": [
       "<div>\n",
       "<style scoped>\n",
       "    .dataframe tbody tr th:only-of-type {\n",
       "        vertical-align: middle;\n",
       "    }\n",
       "\n",
       "    .dataframe tbody tr th {\n",
       "        vertical-align: top;\n",
       "    }\n",
       "\n",
       "    .dataframe thead th {\n",
       "        text-align: right;\n",
       "    }\n",
       "</style>\n",
       "<table border=\"1\" class=\"dataframe\">\n",
       "  <thead>\n",
       "    <tr style=\"text-align: right;\">\n",
       "      <th></th>\n",
       "      <th>class0_most_common</th>\n",
       "      <th>class1_most_common</th>\n",
       "      <th>class2_most_common</th>\n",
       "      <th>class3_most_common</th>\n",
       "      <th>class4_most_common</th>\n",
       "    </tr>\n",
       "  </thead>\n",
       "  <tbody>\n",
       "    <tr>\n",
       "      <th>0</th>\n",
       "      <td>어</td>\n",
       "      <td>.</td>\n",
       "      <td>.</td>\n",
       "      <td>.</td>\n",
       "      <td>어</td>\n",
       "    </tr>\n",
       "    <tr>\n",
       "      <th>1</th>\n",
       "      <td>.</td>\n",
       "      <td>어</td>\n",
       "      <td>하</td>\n",
       "      <td>어</td>\n",
       "      <td>하</td>\n",
       "    </tr>\n",
       "    <tr>\n",
       "      <th>2</th>\n",
       "      <td>하</td>\n",
       "      <td>?</td>\n",
       "      <td>?</td>\n",
       "      <td>?</td>\n",
       "      <td>!</td>\n",
       "    </tr>\n",
       "    <tr>\n",
       "      <th>3</th>\n",
       "      <td>?</td>\n",
       "      <td>이</td>\n",
       "      <td>이</td>\n",
       "      <td>하</td>\n",
       "      <td>이</td>\n",
       "    </tr>\n",
       "    <tr>\n",
       "      <th>4</th>\n",
       "      <td>이</td>\n",
       "      <td>아</td>\n",
       "      <td>어</td>\n",
       "      <td>아</td>\n",
       "      <td>?</td>\n",
       "    </tr>\n",
       "    <tr>\n",
       "      <th>5</th>\n",
       "      <td>아</td>\n",
       "      <td>하</td>\n",
       "      <td>아</td>\n",
       "      <td>이</td>\n",
       "      <td>아</td>\n",
       "    </tr>\n",
       "    <tr>\n",
       "      <th>6</th>\n",
       "      <td>는</td>\n",
       "      <td>고</td>\n",
       "      <td>는</td>\n",
       "      <td>는</td>\n",
       "      <td>는</td>\n",
       "    </tr>\n",
       "    <tr>\n",
       "      <th>7</th>\n",
       "      <td>가</td>\n",
       "      <td>가</td>\n",
       "      <td>가</td>\n",
       "      <td>가</td>\n",
       "      <td>.</td>\n",
       "    </tr>\n",
       "    <tr>\n",
       "      <th>8</th>\n",
       "      <td>고</td>\n",
       "      <td>는</td>\n",
       "      <td>고</td>\n",
       "      <td>야</td>\n",
       "      <td>ㄴ</td>\n",
       "    </tr>\n",
       "    <tr>\n",
       "      <th>9</th>\n",
       "      <td>!</td>\n",
       "      <td>돈</td>\n",
       "      <td>ㄴ</td>\n",
       "      <td>고</td>\n",
       "      <td>가</td>\n",
       "    </tr>\n",
       "  </tbody>\n",
       "</table>\n",
       "</div>"
      ],
      "text/plain": [
       "  class0_most_common class1_most_common class2_most_common class3_most_common  \\\n",
       "0                  어                  .                  .                  .   \n",
       "1                  .                  어                  하                  어   \n",
       "2                  하                  ?                  ?                  ?   \n",
       "3                  ?                  이                  이                  하   \n",
       "4                  이                  아                  어                  아   \n",
       "5                  아                  하                  아                  이   \n",
       "6                  는                  고                  는                  는   \n",
       "7                  가                  가                  가                  가   \n",
       "8                  고                  는                  고                  야   \n",
       "9                  !                  돈                  ㄴ                  고   \n",
       "\n",
       "  class4_most_common  \n",
       "0                  어  \n",
       "1                  하  \n",
       "2                  !  \n",
       "3                  이  \n",
       "4                  ?  \n",
       "5                  아  \n",
       "6                  는  \n",
       "7                  .  \n",
       "8                  ㄴ  \n",
       "9                  가  "
      ]
     },
     "execution_count": 20,
     "metadata": {},
     "output_type": "execute_result"
    }
   ],
   "source": [
    "# 클래스별 가장 많이 쓰이는 토큰이 저장됨\n",
    "\n",
    "token_data = pd.read_csv(os.getcwd()  + '/most-common-tokens.csv')\n",
    "token_data.head(10)"
   ]
  },
  {
   "cell_type": "code",
   "execution_count": 21,
   "id": "9de20175",
   "metadata": {
    "scrolled": false
   },
   "outputs": [
    {
     "name": "stdout",
     "output_type": "stream",
     "text": [
      "79\n",
      "['겠', '네', '.', '왜', '느', '요', '여', '세요', '가', '이', '어요', '아', '그러', '없', '자', '수', '있', '는데', '았', '?', '게', '되', 'ㄹ까', '어야', '저', '었', '시', '아니', '것', '고', '나', '면', '야', 'ㄹ', '짜', '에', '일', '뭐', '도', '죄송', '하', '보', '안', '를', '니', '좋', '냐', '어', '습니다', '말', '알', '주', '지', '돈', '그', '는', '너', '그리하', '다', '어서', '에서', 'ㄴ', '만', '오', '거', '죽', '맞', '같', '좀', '로', '님', '들', '!', '내', '은', '을', '씨', 'ㅂ니다', '응']\n"
     ]
    }
   ],
   "source": [
    "# 가장 많이 쓰이는 클래스별 50개의 단어를 추출하여 중복을 제거한 후, 총 단어의 개수를 출력\n",
    "top_50_tokens = [item for sublist in token_data[:50].values.tolist() for item in sublist]\n",
    "\n",
    "# 불용어 만들기\n",
    "# 중복 제거\n",
    "stopwords = list(set(top_50_tokens))\n",
    "print(len(stopwords))\n",
    "print(stopwords)"
   ]
  },
  {
   "cell_type": "code",
   "execution_count": null,
   "id": "2a68f8a8",
   "metadata": {},
   "outputs": [],
   "source": []
  },
  {
   "cell_type": "code",
   "execution_count": 22,
   "id": "03160ae6",
   "metadata": {},
   "outputs": [],
   "source": [
    "tokenized_data = [kkma.morphs(sentence) for sentence in data_skipped_2['conversation']]"
   ]
  },
  {
   "cell_type": "code",
   "execution_count": 41,
   "id": "5b523a8c",
   "metadata": {},
   "outputs": [
    {
     "data": {
      "text/plain": [
       "22839"
      ]
     },
     "execution_count": 41,
     "metadata": {},
     "output_type": "execute_result"
    }
   ],
   "source": [
    "\n",
    "tokenized_data_without_stopwords = []\n",
    "for sentence in tokenized_data:\n",
    "    sentence_without_stopwords = [token for token in sentence if token not in stopwords]\n",
    "    tokenized_data_without_stopwords.append(sentence_without_stopwords)\n",
    "len(tokenized_data_without_stopwords)"
   ]
  },
  {
   "cell_type": "code",
   "execution_count": 42,
   "id": "c0d66021",
   "metadata": {
    "id": "JvljFXAyoC6P"
   },
   "outputs": [],
   "source": [
    "embedding_model = Word2Vec(sentences=tokenized_data_without_stopwords,\n",
    "\t\t\t\t\t\t\tsg = 1,\n",
    "                            vector_size = 512,\n",
    "                            window = 10,\n",
    "                            min_count = 1,\n",
    "                            workers = 4)"
   ]
  },
  {
   "cell_type": "code",
   "execution_count": 43,
   "id": "80ac0467",
   "metadata": {
    "id": "1c3891c2-ce4f-4dd5-b79e-8a5de764a51a"
   },
   "outputs": [],
   "source": [
    "tokenizer = Tokenizer(num_words=50000)\n",
    "tokenizer.fit_on_texts(tokenized_data_without_stopwords)\n",
    "train_X = tokenizer.texts_to_sequences(tokenized_data_without_stopwords)"
   ]
  },
  {
   "cell_type": "code",
   "execution_count": 44,
   "id": "534b6e4c",
   "metadata": {
    "colab": {
     "base_uri": "https://localhost:8080/",
     "height": 582
    },
    "id": "9d12ee0f-87e4-4a0a-bb83-befcd3eb0d7a",
    "outputId": "88088510-5fa0-4d2f-fc40-39703d6d0d99"
   },
   "outputs": [
    {
     "data": {
      "image/png": "[encoded data removed]",
      "text/plain": [
       "<Figure size 720x432 with 1 Axes>"
      ]
     },
     "metadata": {
      "needs_background": "light"
     },
     "output_type": "display_data"
    },
    {
     "name": "stdout",
     "output_type": "stream",
     "text": [
      "79.0\n"
     ]
    }
   ],
   "source": [
    "# Compute token lengths\n",
    "token_lengths = [len(seq) for seq in train_X]\n",
    "\n",
    "# Compute statistics\n",
    "mean_length = np.mean(token_lengths)\n",
    "std_length = np.std(token_lengths)\n",
    "min_length = np.min(token_lengths)\n",
    "max_length = np.max(token_lengths)\n",
    "median_length = np.median(token_lengths)\n",
    "\n",
    "# Create a DataFrame for statistics\n",
    "stats_df = pd.DataFrame({\n",
    "    \"Statistic\": [\"Mean\", \"Standard Deviation\", \"Min\", \"Max\", \"Median\"],\n",
    "    \"Value\": [mean_length, std_length, min_length, max_length, median_length]\n",
    "})\n",
    "\n",
    "# Plot histogram of token lengths\n",
    "plt.figure(figsize=(10, 6))\n",
    "plt.hist(token_lengths, bins=30, edgecolor='black', alpha=0.7)\n",
    "plt.axvline(mean_length, color='r', linestyle='dashed', linewidth=1, label=f'Mean: {mean_length:.2f}')\n",
    "plt.axvline(median_length, color='g', linestyle='dashed', linewidth=1, label=f'Median: {median_length:.2f}')\n",
    "plt.xlabel(\"Token Length\")\n",
    "plt.ylabel(\"Frequency\")\n",
    "plt.title(\"Distribution of Token Lengths\")\n",
    "plt.legend()\n",
    "plt.grid(axis='y', linestyle='--', alpha=0.7)\n",
    "plt.show()\n",
    "\n",
    "print(np.percentile(token_lengths, 95))\n"
   ]
  },
  {
   "cell_type": "code",
   "execution_count": 45,
   "id": "971c6577",
   "metadata": {
    "id": "d1f2af31-3573-4987-b57c-9403bdb917e9"
   },
   "outputs": [],
   "source": [
    "vocab_size=50000\n",
    "embedding_dim=256\n",
    "max_len = 150 # 평균 + 1.5 * 표준편차 한 것\n",
    "\n",
    "train_X = tokenizer.texts_to_sequences(tokenized_data)\n",
    "train_X = pad_sequences(train_X, maxlen=max_len, padding='pre')\n",
    "train_y = data_skipped_2['class'].values"
   ]
  },
  {
   "cell_type": "code",
   "execution_count": 46,
   "id": "da7f4fa6",
   "metadata": {
    "id": "63774038-76ee-494e-85b6-4411d0fae96b"
   },
   "outputs": [],
   "source": [
    "train_X, val_X, train_y, val_y = train_test_split(train_X, train_y, test_size=0.2, random_state=42)"
   ]
  },
  {
   "cell_type": "code",
   "execution_count": 47,
   "id": "11f299a3",
   "metadata": {
    "id": "0b76ad7d-ead3-4d44-9882-3d33e009600b",
    "scrolled": true
   },
   "outputs": [
    {
     "name": "stdout",
     "output_type": "stream",
     "text": [
      "training data size: 18271\n",
      "validation data size: 4568\n"
     ]
    }
   ],
   "source": [
    "print(f\"training data size: {len(train_X)}\")\n",
    "print(f\"validation data size: {len(val_X)}\")"
   ]
  },
  {
   "cell_type": "markdown",
   "id": "2a67150e",
   "metadata": {
    "id": "56740344-1038-4e5a-9e03-0b3b26a59e84"
   },
   "source": [
    "### 스태킹 앙상블 기법을 활용하기 위해 kernel_size와 dropout rate이 다른 세 모델 형성"
   ]
  },
  {
   "cell_type": "code",
   "execution_count": 652,
   "id": "de8b327a",
   "metadata": {
    "id": "7cab02c6-12ca-4d60-adf4-cff677f53b56"
   },
   "outputs": [],
   "source": [
    "def textcnn_model(kernel_size, dropout):\n",
    "    model = Sequential()\n",
    "\n",
    "    model.add(Embedding(vocab_size, embedding_dim, input_length=max_len))\n",
    "    model.add(Conv1D(256, kernel_size=kernel_size, activation='relu', kernel_regularizer=regularizers.l2(0.005)))\n",
    "    model.add(Dropout(dropout))\n",
    "    model.add(BatchNormalization())\n",
    "    model.add(GlobalMaxPooling1D())\n",
    "    model.add(Dense(256, activation='relu', kernel_regularizer=regularizers.l2(0.005)))\n",
    "    model.add(Dropout(dropout))\n",
    "    model.add(BatchNormalization())\n",
    "    model.add(Dense(5, activation='softmax'))\n",
    "\n",
    "    model.compile(loss='sparse_categorical_crossentropy', optimizer='adam', metrics=['accuracy'])\n",
    "    return model\n"
   ]
  },
  {
   "cell_type": "code",
   "execution_count": 653,
   "id": "b510fbbb",
   "metadata": {
    "colab": {
     "base_uri": "https://localhost:8080/"
    },
    "id": "d7323fc5-e831-403e-ab49-fc363ea9e2aa",
    "outputId": "b210de37-13a2-4ef8-907d-a24636b7aafb",
    "scrolled": true
   },
   "outputs": [
    {
     "name": "stdout",
     "output_type": "stream",
     "text": [
      "Epoch 1/30\n",
      "72/72 [==============================] - 4s 50ms/step - loss: 2.7837 - accuracy: 0.7581 - val_loss: 3.1169 - val_accuracy: 0.1020\n",
      "Epoch 2/30\n",
      "72/72 [==============================] - 2s 34ms/step - loss: 1.4141 - accuracy: 0.9732 - val_loss: 2.6919 - val_accuracy: 0.0749\n",
      "Epoch 3/30\n",
      "72/72 [==============================] - 2s 34ms/step - loss: 0.7903 - accuracy: 0.9967 - val_loss: 1.8952 - val_accuracy: 0.7653\n",
      "Epoch 4/30\n",
      "72/72 [==============================] - 2s 34ms/step - loss: 0.4377 - accuracy: 0.9987 - val_loss: 1.1626 - val_accuracy: 0.7704\n",
      "Epoch 5/30\n",
      "72/72 [==============================] - 2s 34ms/step - loss: 0.2739 - accuracy: 0.9943 - val_loss: 0.8691 - val_accuracy: 0.7476\n",
      "Epoch 6/30\n",
      "72/72 [==============================] - 2s 34ms/step - loss: 0.2633 - accuracy: 0.9843 - val_loss: 0.6549 - val_accuracy: 0.8089\n",
      "Epoch 7/30\n",
      "72/72 [==============================] - 2s 34ms/step - loss: 0.2066 - accuracy: 0.9916 - val_loss: 0.4270 - val_accuracy: 0.9059\n",
      "Epoch 8/30\n",
      "72/72 [==============================] - 2s 35ms/step - loss: 0.1482 - accuracy: 0.9958 - val_loss: 0.3042 - val_accuracy: 0.9383\n",
      "Epoch 9/30\n",
      "72/72 [==============================] - 2s 35ms/step - loss: 0.1162 - accuracy: 0.9959 - val_loss: 0.2491 - val_accuracy: 0.9459\n",
      "Epoch 10/30\n",
      "72/72 [==============================] - 2s 34ms/step - loss: 0.1086 - accuracy: 0.9947 - val_loss: 0.2229 - val_accuracy: 0.9577\n",
      "Epoch 11/30\n",
      "72/72 [==============================] - 2s 34ms/step - loss: 0.1011 - accuracy: 0.9953 - val_loss: 0.2097 - val_accuracy: 0.9641\n",
      "Epoch 12/30\n",
      "72/72 [==============================] - 2s 35ms/step - loss: 0.0988 - accuracy: 0.9947 - val_loss: 0.2230 - val_accuracy: 0.9619\n",
      "Epoch 13/30\n",
      "72/72 [==============================] - 2s 35ms/step - loss: 0.0883 - accuracy: 0.9963 - val_loss: 0.2041 - val_accuracy: 0.9593\n",
      "Epoch 14/30\n",
      "72/72 [==============================] - 2s 35ms/step - loss: 0.0707 - accuracy: 0.9973 - val_loss: 0.2678 - val_accuracy: 0.9457\n",
      "Epoch 15/30\n",
      "72/72 [==============================] - 3s 35ms/step - loss: 0.0682 - accuracy: 0.9964 - val_loss: 0.2214 - val_accuracy: 0.9542\n",
      "Epoch 1/30\n",
      "72/72 [==============================] - 4s 42ms/step - loss: 2.8231 - accuracy: 0.7598 - val_loss: 2.8135 - val_accuracy: 0.7531\n",
      "Epoch 2/30\n",
      "72/72 [==============================] - 3s 38ms/step - loss: 1.4744 - accuracy: 0.9748 - val_loss: 2.3727 - val_accuracy: 0.8336\n",
      "Epoch 3/30\n",
      "72/72 [==============================] - 3s 38ms/step - loss: 0.8459 - accuracy: 0.9972 - val_loss: 1.6808 - val_accuracy: 0.8211\n",
      "Epoch 4/30\n",
      "72/72 [==============================] - 3s 39ms/step - loss: 0.4740 - accuracy: 0.9993 - val_loss: 1.2295 - val_accuracy: 0.7708\n",
      "Epoch 5/30\n",
      "72/72 [==============================] - 3s 39ms/step - loss: 0.2884 - accuracy: 0.9962 - val_loss: 0.9271 - val_accuracy: 0.7710\n",
      "Epoch 6/30\n",
      "72/72 [==============================] - 3s 39ms/step - loss: 0.2679 - accuracy: 0.9860 - val_loss: 0.6286 - val_accuracy: 0.8496\n",
      "Epoch 7/30\n",
      "72/72 [==============================] - 3s 39ms/step - loss: 0.2319 - accuracy: 0.9908 - val_loss: 0.4401 - val_accuracy: 0.9043\n",
      "Epoch 8/30\n",
      "72/72 [==============================] - 3s 38ms/step - loss: 0.1588 - accuracy: 0.9972 - val_loss: 0.3305 - val_accuracy: 0.9341\n",
      "Epoch 9/30\n",
      "72/72 [==============================] - 3s 38ms/step - loss: 0.1266 - accuracy: 0.9960 - val_loss: 0.2470 - val_accuracy: 0.9510\n",
      "Epoch 10/30\n",
      "72/72 [==============================] - 3s 38ms/step - loss: 0.1219 - accuracy: 0.9957 - val_loss: 0.2511 - val_accuracy: 0.9466\n",
      "Epoch 11/30\n",
      "72/72 [==============================] - 3s 38ms/step - loss: 0.1042 - accuracy: 0.9967 - val_loss: 0.2377 - val_accuracy: 0.9518\n",
      "Epoch 12/30\n",
      "72/72 [==============================] - 3s 38ms/step - loss: 0.0978 - accuracy: 0.9959 - val_loss: 0.2282 - val_accuracy: 0.9602\n",
      "Epoch 13/30\n",
      "72/72 [==============================] - 3s 38ms/step - loss: 0.0868 - accuracy: 0.9968 - val_loss: 0.2645 - val_accuracy: 0.9529\n",
      "Epoch 14/30\n",
      "72/72 [==============================] - 3s 38ms/step - loss: 0.0907 - accuracy: 0.9955 - val_loss: 0.2324 - val_accuracy: 0.9584\n",
      "Epoch 1/30\n",
      "72/72 [==============================] - 5s 57ms/step - loss: 2.8379 - accuracy: 0.7515 - val_loss: 3.0387 - val_accuracy: 0.8148\n",
      "Epoch 2/30\n",
      "72/72 [==============================] - 3s 41ms/step - loss: 1.4486 - accuracy: 0.9777 - val_loss: 2.7143 - val_accuracy: 0.0806\n",
      "Epoch 3/30\n",
      "72/72 [==============================] - 3s 41ms/step - loss: 0.8091 - accuracy: 0.9980 - val_loss: 2.3061 - val_accuracy: 0.0891\n",
      "Epoch 4/30\n",
      "72/72 [==============================] - 3s 41ms/step - loss: 0.4435 - accuracy: 0.9995 - val_loss: 1.6593 - val_accuracy: 0.1484\n",
      "Epoch 5/30\n",
      "72/72 [==============================] - 3s 41ms/step - loss: 0.2502 - accuracy: 0.9982 - val_loss: 1.1438 - val_accuracy: 0.8857\n",
      "Epoch 6/30\n",
      "72/72 [==============================] - 3s 41ms/step - loss: 0.2779 - accuracy: 0.9820 - val_loss: 0.5661 - val_accuracy: 0.8936\n",
      "Epoch 7/30\n",
      "72/72 [==============================] - 3s 41ms/step - loss: 0.2367 - accuracy: 0.9928 - val_loss: 0.4759 - val_accuracy: 0.8868\n",
      "Epoch 8/30\n",
      "72/72 [==============================] - 3s 41ms/step - loss: 0.1582 - accuracy: 0.9976 - val_loss: 0.4159 - val_accuracy: 0.8873\n",
      "Epoch 9/30\n",
      "72/72 [==============================] - 3s 41ms/step - loss: 0.1302 - accuracy: 0.9950 - val_loss: 0.2547 - val_accuracy: 0.9593\n",
      "Epoch 10/30\n",
      "72/72 [==============================] - 3s 41ms/step - loss: 0.1336 - accuracy: 0.9953 - val_loss: 0.2482 - val_accuracy: 0.9542\n",
      "Epoch 11/30\n",
      "72/72 [==============================] - 3s 41ms/step - loss: 0.1090 - accuracy: 0.9972 - val_loss: 0.2066 - val_accuracy: 0.9656\n",
      "Epoch 12/30\n",
      "72/72 [==============================] - 3s 41ms/step - loss: 0.1037 - accuracy: 0.9958 - val_loss: 0.2678 - val_accuracy: 0.9457\n",
      "Epoch 13/30\n",
      "72/72 [==============================] - 3s 41ms/step - loss: 0.1132 - accuracy: 0.9951 - val_loss: 0.2357 - val_accuracy: 0.9623\n"
     ]
    }
   ],
   "source": [
    "#### 모델 3개 생성\n",
    "TextCNN1 = textcnn_model(kernel_size=3, dropout=0.2)\n",
    "TextCNN2 = textcnn_model(kernel_size=4, dropout=0.2)\n",
    "TextCNN3 = textcnn_model(kernel_size=5, dropout=0.2)\n",
    "\n",
    "# callbacks\n",
    "from tensorflow.keras.callbacks import EarlyStopping, ReduceLROnPlateau\n",
    "lr = ReduceLROnPlateau(monitor='val_loss', factor=0.5, patience=3, verbose=1)\n",
    "es = EarlyStopping(monitor='val_loss', patience=2, restore_best_weights=True)\n",
    "\n",
    "\n",
    "# epochs\n",
    "NUM_EPOCHS = 30\n",
    "\n",
    "\n",
    "# 모델 학습\n",
    "history1 = TextCNN1.fit(train_X, train_y,\n",
    "                        batch_size = 256,\n",
    "                        epochs = NUM_EPOCHS,\n",
    "                        validation_data = (val_X, val_y),\n",
    "                        callbacks=[es, lr]\n",
    "                       )\n",
    "\n",
    "history2 = TextCNN2.fit(train_X, train_y,\n",
    "                        batch_size = 256,\n",
    "                        epochs = NUM_EPOCHS,\n",
    "                        validation_data = (val_X, val_y),\n",
    "                        callbacks=[es, lr]\n",
    "                       )\n",
    "\n",
    "history3 = TextCNN3.fit(train_X, train_y,\n",
    "                        batch_size = 256,\n",
    "                        epochs = NUM_EPOCHS,\n",
    "                        validation_data = (val_X, val_y),\n",
    "                        callbacks=[es, lr]\n",
    "                       )\n"
   ]
  },
  {
   "cell_type": "code",
   "execution_count": 654,
   "id": "9c39cbed",
   "metadata": {
    "colab": {
     "base_uri": "https://localhost:8080/"
    },
    "id": "6fcc26f8-e029-4846-8ade-9c1c50d07b5c",
    "outputId": "c7cdb1f1-1992-4a6e-d872-9e2a83dfb7b8"
   },
   "outputs": [],
   "source": [
    "pred_train1 = TextCNN1.predict(train_X)\n",
    "pred_train2 = TextCNN2.predict(train_X)\n",
    "pred_train3 = TextCNN3.predict(train_X)\n",
    "meta_train = np.concatenate([pred_train1, pred_train2, pred_train3], axis=1)\n",
    "\n",
    "pred_val1 = TextCNN1.predict(val_X)\n",
    "pred_val2 = TextCNN2.predict(val_X)\n",
    "pred_val3 = TextCNN3.predict(val_X)\n",
    "meta_val = np.concatenate([pred_val1, pred_val2, pred_val3], axis=1)"
   ]
  },
  {
   "cell_type": "code",
   "execution_count": 655,
   "id": "911b623c",
   "metadata": {
    "colab": {
     "base_uri": "https://localhost:8080/"
    },
    "id": "2ab23db3-4304-463c-be83-394105799838",
    "outputId": "37a4485f-1583-4a4f-c295-be8657ff49ce",
    "scrolled": true
   },
   "outputs": [
    {
     "name": "stdout",
     "output_type": "stream",
     "text": [
      "[[4.9162438e-05 6.0824103e-05 7.4321783e-06 9.9988258e-01 2.5624182e-11\n",
      "  1.6452441e-05 3.7929928e-04 9.3558219e-06 9.9959463e-01 2.8339051e-07\n",
      "  9.1853517e-04 7.2748685e-04 9.9884637e-04 9.9725312e-01 1.0199602e-04]]\n",
      "15\n",
      "[3]\n"
     ]
    }
   ],
   "source": [
    "print(meta_train[:1])\n",
    "print(meta_train.shape[1])\n",
    "print(train_y[:1])"
   ]
  },
  {
   "cell_type": "code",
   "execution_count": 656,
   "id": "abccae67",
   "metadata": {
    "colab": {
     "base_uri": "https://localhost:8080/"
    },
    "id": "8c5254a4-8175-48bc-a347-131e12c33cb6",
    "outputId": "54b3f8d0-b813-49bc-8018-c63b2fae8852",
    "scrolled": true
   },
   "outputs": [
    {
     "name": "stdout",
     "output_type": "stream",
     "text": [
      "Epoch 1/20\n",
      "143/143 [==============================] - 2s 6ms/step - loss: 2.3066 - accuracy: 0.9507 - val_loss: 1.9460 - val_accuracy: 0.7454\n",
      "Epoch 2/20\n",
      "143/143 [==============================] - 1s 5ms/step - loss: 0.8310 - accuracy: 0.9988 - val_loss: 1.0477 - val_accuracy: 0.7454\n",
      "Epoch 3/20\n",
      "143/143 [==============================] - 1s 5ms/step - loss: 0.2655 - accuracy: 0.9997 - val_loss: 0.8118 - val_accuracy: 0.8382\n",
      "Epoch 4/20\n",
      "143/143 [==============================] - 1s 5ms/step - loss: 0.0911 - accuracy: 0.9996 - val_loss: 0.4459 - val_accuracy: 0.9709\n",
      "Epoch 5/20\n",
      "143/143 [==============================] - 1s 5ms/step - loss: 0.0504 - accuracy: 0.9993 - val_loss: 0.1374 - val_accuracy: 0.9735\n",
      "Epoch 6/20\n",
      "143/143 [==============================] - 1s 5ms/step - loss: 0.0232 - accuracy: 0.9997 - val_loss: 0.5958 - val_accuracy: 0.9560\n",
      "Epoch 7/20\n",
      "143/143 [==============================] - 1s 5ms/step - loss: 0.0350 - accuracy: 0.9990 - val_loss: 0.1467 - val_accuracy: 0.9733\n"
     ]
    },
    {
     "data": {
      "text/plain": [
       "<keras.callbacks.History at 0x7baa78649b80>"
      ]
     },
     "execution_count": 656,
     "metadata": {},
     "output_type": "execute_result"
    }
   ],
   "source": [
    "# 메타 모델\n",
    "meta_model = Sequential()\n",
    "\n",
    "meta_model.add(Dense(128, activation='gelu', input_shape=(15,), kernel_regularizer=regularizers.l2(0.01)))\n",
    "meta_model.add(BatchNormalization())\n",
    "meta_model.add(Dropout(0.4))\n",
    "meta_model.add(Dense(128, activation='gelu', kernel_regularizer=regularizers.l2(0.01)))\n",
    "meta_model.add(BatchNormalization())\n",
    "meta_model.add(Dropout(0.4))\n",
    "meta_model.add(Dense(128, activation='gelu', kernel_regularizer=regularizers.l2(0.01)))\n",
    "meta_model.add(BatchNormalization())\n",
    "meta_model.add(Dropout(0.4))\n",
    "meta_model.add(Dense(5, activation='softmax'))\n",
    "\n",
    "meta_model.compile(loss='sparse_categorical_crossentropy', optimizer=Adam(learning_rate=0.001), metrics=['accuracy'])\n",
    "\n",
    "# Stacking 학습\n",
    "meta_model.fit(meta_train, train_y,\n",
    "               validation_data=(meta_val, val_y),\n",
    "               epochs=20,\n",
    "               batch_size=128,\n",
    "               callbacks=[es, lr]\n",
    "              )\n"
   ]
  },
  {
   "cell_type": "code",
   "execution_count": 657,
   "id": "7b1fd66f",
   "metadata": {
    "colab": {
     "base_uri": "https://localhost:8080/"
    },
    "id": "9766475e-6923-42b1-b984-3edeaf8f90e7",
    "outputId": "d1c77ea9-6b27-41c7-b4e6-3e7a34a8d8dc"
   },
   "outputs": [],
   "source": [
    "# 검증 데이터 예측\n",
    "val_preds = meta_model.predict(meta_val)\n",
    "val_preds_classes = np.argmax(val_preds, axis=1)\n"
   ]
  },
  {
   "cell_type": "code",
   "execution_count": 658,
   "id": "44c4b01b",
   "metadata": {
    "colab": {
     "base_uri": "https://localhost:8080/"
    },
    "id": "9a7ab4e6-9559-4566-b7ca-2d74428607b6",
    "outputId": "e3cffb19-de11-4c91-8389-8376b401726d"
   },
   "outputs": [
    {
     "name": "stdout",
     "output_type": "stream",
     "text": [
      "Weighted F1-score: 0.9735\n"
     ]
    }
   ],
   "source": [
    "from sklearn.metrics import f1_score\n",
    "\n",
    "f1 = f1_score(val_y, val_preds_classes, average=\"weighted\")  # weighted F1-score\n",
    "print(f\"Weighted F1-score: {f1:.4f}\")"
   ]
  },
  {
   "cell_type": "code",
   "execution_count": 659,
   "id": "72915964",
   "metadata": {
    "colab": {
     "base_uri": "https://localhost:8080/"
    },
    "id": "47a909ed-acfa-42eb-8f32-bdc3503bc3bf",
    "outputId": "a99e853e-9b1d-4d0c-cea9-c5eb2da55a88",
    "scrolled": true
   },
   "outputs": [
    {
     "name": "stdout",
     "output_type": "stream",
     "text": [
      "              precision    recall  f1-score   support\n",
      "\n",
      "     Class 0       0.91      0.88      0.89       260\n",
      "     Class 1       0.86      0.90      0.88       271\n",
      "     Class 2       0.93      0.97      0.95       290\n",
      "     Class 3       0.91      0.88      0.89       342\n",
      "     Class 4       1.00      1.00      1.00      3405\n",
      "\n",
      "    accuracy                           0.97      4568\n",
      "   macro avg       0.92      0.92      0.92      4568\n",
      "weighted avg       0.97      0.97      0.97      4568\n",
      "\n"
     ]
    }
   ],
   "source": [
    "report = classification_report(val_y, val_preds_classes, target_names=[f\"Class {i}\" for i in range(5)])\n",
    "print(report)"
   ]
  },
  {
   "cell_type": "code",
   "execution_count": 660,
   "id": "ab49592c",
   "metadata": {
    "colab": {
     "base_uri": "https://localhost:8080/",
     "height": 487
    },
    "id": "68d45815-51b1-4520-b91f-1c10f13aa1d7",
    "outputId": "9a67f735-4ae1-4099-e6f5-18e21adbc26f"
   },
   "outputs": [
    {
     "data": {
      "image/png": "[encoded data removed]",
      "text/plain": [
       "<Figure size 432x360 with 2 Axes>"
      ]
     },
     "metadata": {
      "needs_background": "light"
     },
     "output_type": "display_data"
    }
   ],
   "source": [
    "# Confusion Matrix 계산\n",
    "cm = confusion_matrix(val_y, val_preds_classes)\n",
    "\n",
    "# Confusion Matrix 시각화\n",
    "plt.figure(figsize=(6,5))\n",
    "sns.heatmap(cm, annot=True, fmt='d', cmap='Blues', xticklabels=[f\"Class {i}\" for i in range(5)], yticklabels=[f\"Class {i}\" for i in range(5)])\n",
    "plt.xlabel(\"Predicted Label\")\n",
    "plt.ylabel(\"True Label\")\n",
    "plt.title(\"Confusion Matrix\")\n",
    "plt.show()\n"
   ]
  },
  {
   "cell_type": "code",
   "execution_count": 661,
   "id": "3287259f",
   "metadata": {
    "colab": {
     "base_uri": "https://localhost:8080/"
    },
    "id": "dc767240-d69c-4107-ab29-38bb86c8623d",
    "outputId": "33acaf54-e6be-4dde-9a33-35b0194a4202"
   },
   "outputs": [
    {
     "name": "stdout",
     "output_type": "stream",
     "text": [
      "Class 0: 260개\n",
      "Class 1: 271개\n",
      "Class 2: 290개\n",
      "Class 3: 342개\n",
      "Class 4: 3405개\n"
     ]
    }
   ],
   "source": [
    "# val_y의 각 클래스 개수 출력\n",
    "unique_classes, class_counts = np.unique(val_y, return_counts=True)\n",
    "\n",
    "# 결과 출력\n",
    "for cls, count in zip(unique_classes, class_counts):\n",
    "    print(f\"Class {cls}: {count}개\")\n"
   ]
  },
  {
   "cell_type": "code",
   "execution_count": 662,
   "id": "48dae7f2",
   "metadata": {
    "id": "0909abec-1912-4885-8cb1-9474a4c58c2f"
   },
   "outputs": [],
   "source": [
    "test_df = pd.read_csv(os.getcwd() + '/test.csv')"
   ]
  },
  {
   "cell_type": "code",
   "execution_count": 663,
   "id": "6353d545",
   "metadata": {
    "colab": {
     "base_uri": "https://localhost:8080/"
    },
    "id": "ce1eab90-1cec-4876-a326-38b9c81834ae",
    "outputId": "d36a59c7-d625-4b67-9d70-0d8c81002eea"
   },
   "outputs": [
    {
     "name": "stdout",
     "output_type": "stream",
     "text": [
      "Test 데이터 Shape: 500\n"
     ]
    }
   ],
   "source": [
    "test_texts = test_df['text'].tolist()  # 테스트 데이터의 텍스트 추출\n",
    "tokenized_test = [kkma.morphs(sentence) for sentence in test_texts]  # 형태소 분석 적용\n",
    "test_X = tokenizer.texts_to_sequences(tokenized_test)  # 기존에 학습된 Tokenizer를 사용해 정수 인덱스로 변환\n",
    "test_X = pad_sequences(test_X, maxlen=max_len, padding='pre')\n",
    "\n",
    "print(\"Test 데이터 Shape:\", len(test_X))  # (샘플 수, max_len)"
   ]
  },
  {
   "cell_type": "code",
   "execution_count": 664,
   "id": "a9f96251",
   "metadata": {
    "colab": {
     "base_uri": "https://localhost:8080/"
    },
    "id": "b34a3d5b-be6e-4204-a4c7-182edf0d5a26",
    "outputId": "0d19f818-2680-45b0-ea17-712771f84817"
   },
   "outputs": [],
   "source": [
    "pred_test1 = TextCNN1.predict(test_X)\n",
    "pred_test2 = TextCNN2.predict(test_X)\n",
    "pred_test3 = TextCNN3.predict(test_X)\n",
    "\n",
    "meta_test = np.concatenate([pred_test1, pred_test2, pred_test3], axis=1)"
   ]
  },
  {
   "cell_type": "code",
   "execution_count": 665,
   "id": "7b051839",
   "metadata": {
    "colab": {
     "base_uri": "https://localhost:8080/"
    },
    "id": "b0f469d6-9ebf-4d06-9889-b15e26ffb4cd",
    "outputId": "71716ab4-2e6c-4d17-d679-17f08ad29c50"
   },
   "outputs": [],
   "source": [
    "test_pred = meta_model.predict(meta_test)"
   ]
  },
  {
   "cell_type": "code",
   "execution_count": 666,
   "id": "f2a6f7e2",
   "metadata": {
    "colab": {
     "base_uri": "https://localhost:8080/"
    },
    "id": "851c5a09-f5f1-49fb-95f7-45f3e763d0a4",
    "outputId": "51d7c7b2-cb63-409f-f251-f14e7e7e6416"
   },
   "outputs": [
    {
     "name": "stdout",
     "output_type": "stream",
     "text": [
      "500\n"
     ]
    }
   ],
   "source": [
    "print(len(test_pred))"
   ]
  },
  {
   "cell_type": "code",
   "execution_count": 667,
   "id": "93b8c59e",
   "metadata": {
    "colab": {
     "base_uri": "https://localhost:8080/"
    },
    "id": "293a1d35-3a70-4e22-ac8b-263f81c70888",
    "outputId": "2793ae0b-8398-4b0a-f6a6-cab145b92758",
    "scrolled": true
   },
   "outputs": [
    {
     "data": {
      "text/plain": [
       "array([1.4905515e-03, 9.9646831e-01, 1.0341733e-03, 1.0015782e-03,\n",
       "       5.3713688e-06], dtype=float32)"
      ]
     },
     "execution_count": 667,
     "metadata": {},
     "output_type": "execute_result"
    }
   ],
   "source": [
    "test_pred[0]"
   ]
  },
  {
   "cell_type": "code",
   "execution_count": 668,
   "id": "44af2805",
   "metadata": {
    "id": "cdefd8a3-32b3-4d4f-84ba-b7a0c92c0db1"
   },
   "outputs": [],
   "source": [
    "test_pred_labels = np.argmax(test_pred,axis=1)"
   ]
  },
  {
   "cell_type": "code",
   "execution_count": 669,
   "id": "b9d670d9",
   "metadata": {
    "colab": {
     "base_uri": "https://localhost:8080/"
    },
    "id": "80798346-6975-44e0-94f8-2bc7e020765e",
    "outputId": "1813b90a-58a2-4c2b-c3e3-179f4fe3e9bd",
    "scrolled": true
   },
   "outputs": [
    {
     "data": {
      "text/plain": [
       "array([1, 2, 2, 3, 3, 0, 0, 3, 2, 1, 0, 3, 2, 2, 2, 0, 4, 3, 0, 3, 0, 3,\n",
       "       3, 1, 1, 2, 3, 3, 2, 0])"
      ]
     },
     "execution_count": 669,
     "metadata": {},
     "output_type": "execute_result"
    }
   ],
   "source": [
    "test_pred_labels[:30]\n",
    "# 각 클래스는 정수인코딩 되어있고\n",
    "# 협박 대화 = 0,\n",
    "# 갈취 대화 = 1,\n",
    "# 직장 내 괴롭힘 대화 = 2,\n",
    "# 기타 괴롭힘 대화 = 3,\n",
    "# 일반 = 4"
   ]
  },
  {
   "cell_type": "code",
   "execution_count": 670,
   "id": "fec74e58",
   "metadata": {},
   "outputs": [
    {
     "name": "stdout",
     "output_type": "stream",
     "text": [
      "[ True  True False False  True  True  True False False  True  True False\n",
      "  True False  True  True  True False  True  True  True  True  True  True\n",
      "  True  True False False  True False]\n",
      "\n"
     ]
    }
   ],
   "source": [
    "def compare_label(pred):\n",
    "    label30 = [1, 2, 4, 4, 3, 0, 0, 1, 4, 1, 0, 4, 2, 4, 2, 0, 4, 4, 0, 3, 0, 3, 3, 1, 1, 2, 4, 4, 2, 4]\n",
    "    print(pred == label30)\n",
    "    print()\n",
    "compare_label(test_pred_labels[:30]) "
   ]
  },
  {
   "cell_type": "code",
   "execution_count": 671,
   "id": "83c260f2",
   "metadata": {
    "colab": {
     "base_uri": "https://localhost:8080/"
    },
    "id": "7ed6e76c-cfcc-467e-9c52-d04b532507ae",
    "outputId": "8bd8454f-493d-431f-9383-5b7f827fbb3f"
   },
   "outputs": [],
   "source": [
    "# # 인덱스 열 생성 (t_000 ~ t_499)\n",
    "idx_column = [f\"t_{i:03d}\" for i in range(len(test_pred_labels))]\n",
    "\n",
    "# DataFrame 생성\n",
    "submission_df = pd.DataFrame({\n",
    "    \"idx\": idx_column,\n",
    "    \"target\": test_pred_labels\n",
    "})\n",
    "\n",
    "# 확인\n",
    "print(submission_df.head(10))  # 상위 10개 출력\n",
    "\n",
    "# CSV로 저장\n",
    "submission_df.to_csv(os.getcwd() + \"submission_textcnn.csv\", index=False)\n",
    "\n",
    "print(\"CSV 저장 완료: submission_textcnn.csv\")\n"
   ]
  },
  {
   "cell_type": "code",
   "execution_count": 672,
   "id": "3858527e",
   "metadata": {
    "colab": {
     "base_uri": "https://localhost:8080/"
    },
    "id": "4f47a303-4325-4282-806f-9052a5720be3",
    "outputId": "3465a42d-d329-4dee-8aae-c3abe98da200"
   },
   "outputs": [
    {
     "name": "stdout",
     "output_type": "stream",
     "text": [
      "0    104\n",
      "1    112\n",
      "2    124\n",
      "3    126\n",
      "4     34\n",
      "Name: target, dtype: int64\n"
     ]
    }
   ],
   "source": [
    "# 클래스 개수 확인\n",
    "class_distribution = pd.Series(submission_df['target']).value_counts().sort_index()\n",
    "print(class_distribution)\n"
   ]
  },
  {
   "cell_type": "markdown",
   "id": "07f89185",
   "metadata": {
    "id": "bb55b20e-bca7-4e89-8f81-cace43cf6249"
   },
   "source": [
    "하이퍼파라미터 계속 바꾸어가면서 학습 진행함."
   ]
  }
 ],
 "metadata": {
  "accelerator": "GPU",
  "colab": {
   "gpuType": "T4",
   "provenance": []
  },
  "kernelspec": {
   "display_name": "Python 3 (ipykernel)",
   "language": "python",
   "name": "python3"
  },
  "language_info": {
   "codemirror_mode": {
    "name": "ipython",
    "version": 3
   },
   "file_extension": ".py",
   "mimetype": "text/x-python",
   "name": "python",
   "nbconvert_exporter": "python",
   "pygments_lexer": "ipython3",
   "version": "3.9.7"
  }
 },
 "nbformat": 4,
 "nbformat_minor": 5
}
