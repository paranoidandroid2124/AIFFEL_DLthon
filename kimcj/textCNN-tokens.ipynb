{
 "cells": [
  {
   "cell_type": "markdown",
   "id": "5d56c28a",
   "metadata": {
    "id": "DgbjwNJWZryC"
   },
   "source": [
    "## 모델 학습하기\n",
    "철헌님 코드 활용하였습니다."
   ]
  },
  {
   "cell_type": "code",
   "execution_count": 1,
   "id": "c494d883",
   "metadata": {
    "id": "FVgjX4sLmWaw"
   },
   "outputs": [],
   "source": [
    "# import konlpy and other libraries to analyse Korean text data\n",
    "from konlpy.tag import Kkma\n",
    "\n",
    "# create an instance of Kkma and Okt\n",
    "kkma = Kkma()"
   ]
  },
  {
   "cell_type": "code",
   "execution_count": 3,
   "id": "58531869",
   "metadata": {
    "id": "1382c380-90ac-4431-a73c-0b7c68489077",
    "scrolled": false
   },
   "outputs": [],
   "source": [
    "import pandas as pd\n",
    "import numpy as np\n",
    "import os\n",
    "\n",
    "from gensim.models import Word2Vec\n",
    "from konlpy.tag import Okt\n",
    "\n",
    "import pickle\n"
   ]
  },
  {
   "cell_type": "code",
   "execution_count": 3,
   "id": "5706dad7",
   "metadata": {
    "id": "7ba98bbb-e6bc-4a29-869f-868dc1ba1a45"
   },
   "outputs": [],
   "source": [
    "train_data = pd.read_csv(os.getcwd() + '/sns_syn_sent_augment.csv')"
   ]
  },
  {
   "cell_type": "markdown",
   "id": "4d2bbc73",
   "metadata": {
    "id": "2b4ccbd2-7fa2-4ae1-81aa-7ffdaf8363b5"
   },
   "source": [
    "#### 이미 전처리해서 중복 등을 제거한 좋은 데이터로 시작\n",
    "각 클래스는 정수인코딩 되어있고   \n",
    "협박 대화 = 0,  \n",
    "갈취 대화 = 1,  \n",
    "직장 내 괴롭힘 대화 = 2,  \n",
    "기타 괴롭힘 대화 = 3,  \n",
    "일반 = 4   "
   ]
  },
  {
   "cell_type": "code",
   "execution_count": 4,
   "id": "98fd5a71",
   "metadata": {
    "colab": {
     "base_uri": "https://localhost:8080/",
     "height": 423
    },
    "id": "b04859a3-c8b7-4a51-95e9-9cc45508e3ba",
    "outputId": "de8a7b08-ae00-4e10-f11e-c42fb726e8f0",
    "scrolled": false
   },
   "outputs": [
    {
     "data": {
      "text/html": [
       "<div>\n",
       "<style scoped>\n",
       "    .dataframe tbody tr th:only-of-type {\n",
       "        vertical-align: middle;\n",
       "    }\n",
       "\n",
       "    .dataframe tbody tr th {\n",
       "        vertical-align: top;\n",
       "    }\n",
       "\n",
       "    .dataframe thead th {\n",
       "        text-align: right;\n",
       "    }\n",
       "</style>\n",
       "<table border=\"1\" class=\"dataframe\">\n",
       "  <thead>\n",
       "    <tr style=\"text-align: right;\">\n",
       "      <th></th>\n",
       "      <th>conversation</th>\n",
       "      <th>class</th>\n",
       "    </tr>\n",
       "  </thead>\n",
       "  <tbody>\n",
       "    <tr>\n",
       "      <th>0</th>\n",
       "      <td>선택권이 것인가 너가 네 . 거면 죽여버려야겠군 정말 죽여달라고 혼자 . ? . 선...</td>\n",
       "      <td>0</td>\n",
       "    </tr>\n",
       "    <tr>\n",
       "      <th>1</th>\n",
       "      <td>지금 너 스스로를 죽여달라고 애원하는 것인가 ? 아닙니다 . 죄송합니다 . 죽을 거...</td>\n",
       "      <td>0</td>\n",
       "    </tr>\n",
       "    <tr>\n",
       "      <th>2</th>\n",
       "      <td>지금 너 애원하는 것인가 아닙니다 . 죄송합니다 . 죽을 혼자 죽지 우리까지 사건에...</td>\n",
       "      <td>0</td>\n",
       "    </tr>\n",
       "    <tr>\n",
       "      <th>3</th>\n",
       "      <td>장난전화는 진정하세요 얘기한다 너에게 달려있다 장난전화 재미있겠지 더 터지면 선생님...</td>\n",
       "      <td>0</td>\n",
       "    </tr>\n",
       "    <tr>\n",
       "      <th>4</th>\n",
       "      <td>길동경찰서입니다 . 시 분 마트에 폭발물을 설치할거다 . 네 ? 똑바로 들어 한번만...</td>\n",
       "      <td>0</td>\n",
       "    </tr>\n",
       "    <tr>\n",
       "      <th>...</th>\n",
       "      <td>...</td>\n",
       "      <td>...</td>\n",
       "    </tr>\n",
       "    <tr>\n",
       "      <th>45673</th>\n",
       "      <td>슈룹 시청률 머박! 렬루다가? 치솟았어 어디서 봤어? tvN에서 방영 중이야 시청률...</td>\n",
       "      <td>4</td>\n",
       "    </tr>\n",
       "    <tr>\n",
       "      <th>45674</th>\n",
       "      <td>슈룹 시청률 머박! 렬루다가? 어디서 봤어? tvN에서 방영 중이야 시청률이 되는데...</td>\n",
       "      <td>4</td>\n",
       "    </tr>\n",
       "    <tr>\n",
       "      <th>45675</th>\n",
       "      <td>도와서 기대해볼게 힐링되면서도 마음 안녕! 봤어 한번 방송이라 얘기하자 가! 의뢰인...</td>\n",
       "      <td>4</td>\n",
       "    </tr>\n",
       "    <tr>\n",
       "      <th>45676</th>\n",
       "      <td>이상한 변호사 우영우 너무 재밌어! 응! 나도 매주 기다려! 어제 방송 어땠어? 오...</td>\n",
       "      <td>4</td>\n",
       "    </tr>\n",
       "    <tr>\n",
       "      <th>45677</th>\n",
       "      <td>이상한 변호사 우영우 나도 방송 어땠어? 오늘 방송이라 봤어 아 마지막 재밌었는데 ...</td>\n",
       "      <td>4</td>\n",
       "    </tr>\n",
       "  </tbody>\n",
       "</table>\n",
       "<p>45678 rows × 2 columns</p>\n",
       "</div>"
      ],
      "text/plain": [
       "                                            conversation  class\n",
       "0      선택권이 것인가 너가 네 . 거면 죽여버려야겠군 정말 죽여달라고 혼자 . ? . 선...      0\n",
       "1      지금 너 스스로를 죽여달라고 애원하는 것인가 ? 아닙니다 . 죄송합니다 . 죽을 거...      0\n",
       "2      지금 너 애원하는 것인가 아닙니다 . 죄송합니다 . 죽을 혼자 죽지 우리까지 사건에...      0\n",
       "3      장난전화는 진정하세요 얘기한다 너에게 달려있다 장난전화 재미있겠지 더 터지면 선생님...      0\n",
       "4      길동경찰서입니다 . 시 분 마트에 폭발물을 설치할거다 . 네 ? 똑바로 들어 한번만...      0\n",
       "...                                                  ...    ...\n",
       "45673  슈룹 시청률 머박! 렬루다가? 치솟았어 어디서 봤어? tvN에서 방영 중이야 시청률...      4\n",
       "45674  슈룹 시청률 머박! 렬루다가? 어디서 봤어? tvN에서 방영 중이야 시청률이 되는데...      4\n",
       "45675  도와서 기대해볼게 힐링되면서도 마음 안녕! 봤어 한번 방송이라 얘기하자 가! 의뢰인...      4\n",
       "45676  이상한 변호사 우영우 너무 재밌어! 응! 나도 매주 기다려! 어제 방송 어땠어? 오...      4\n",
       "45677  이상한 변호사 우영우 나도 방송 어땠어? 오늘 방송이라 봤어 아 마지막 재밌었는데 ...      4\n",
       "\n",
       "[45678 rows x 2 columns]"
      ]
     },
     "execution_count": 4,
     "metadata": {},
     "output_type": "execute_result"
    }
   ],
   "source": [
    "train_data"
   ]
  },
  {
   "cell_type": "code",
   "execution_count": 5,
   "id": "9416b09d",
   "metadata": {
    "id": "p9983exG8Jha"
   },
   "outputs": [],
   "source": [
    "# 레코드의 절반만 가져오기\n",
    "\n",
    "data_skipped_2 = train_data[train_data.index % 2 == 0] # 22839개 레코드"
   ]
  },
  {
   "cell_type": "markdown",
   "id": "2cb6a1c9",
   "metadata": {
    "id": "43acbf18-a9dd-4d02-9bbd-4a8f89367989"
   },
   "source": [
    "#### 한국어 형태소 분석 후 word2vec"
   ]
  },
  {
   "cell_type": "code",
   "execution_count": 7,
   "id": "a14a4252",
   "metadata": {
    "colab": {
     "base_uri": "https://localhost:8080/"
    },
    "id": "9gDODCBbn59w",
    "outputId": "56eff089-9f46-4770-a8a1-d951a41d1ce2",
    "scrolled": true
   },
   "outputs": [
    {
     "name": "stdout",
     "output_type": "stream",
     "text": [
      "클래스별 데이터 수\n",
      "class0_data 1312\n",
      "class1_data 1466\n",
      "class2_data 1480\n",
      "class3_data 1511\n",
      "class4_data 17070\n"
     ]
    }
   ],
   "source": [
    "class0_data = data_skipped_2[data_skipped_2['class'] == 0]\n",
    "class1_data = data_skipped_2[data_skipped_2['class'] == 1]\n",
    "class2_data = data_skipped_2[data_skipped_2['class'] == 2]\n",
    "class3_data = data_skipped_2[data_skipped_2['class'] == 3]\n",
    "class4_data = data_skipped_2[data_skipped_2['class'] == 4]\n",
    "print(\"클래스별 데이터 수\")\n",
    "print(\"class0_data\", len(class0_data))\n",
    "print(\"class1_data\", len(class1_data))\n",
    "print(\"class2_data\", len(class2_data))\n",
    "print(\"class3_data\", len(class3_data))\n",
    "print(\"class4_data\", len(class4_data))"
   ]
  },
  {
   "cell_type": "code",
   "execution_count": 8,
   "id": "1d3a7b38",
   "metadata": {
    "id": "Qep94pvy97K8"
   },
   "outputs": [],
   "source": [
    "class0_tokenized_data = [kkma.morphs(sentence) for sentence in class0_data['conversation']]\n",
    "class1_tokenized_data = [kkma.morphs(sentence) for sentence in class1_data['conversation']]\n",
    "class2_tokenized_data = [kkma.morphs(sentence) for sentence in class2_data['conversation']]\n",
    "class3_tokenized_data = [kkma.morphs(sentence) for sentence in class3_data['conversation']]\n",
    "class4_tokenized_data = [kkma.morphs(sentence) for sentence in class4_data['conversation']]"
   ]
  },
  {
   "cell_type": "code",
   "execution_count": 23,
   "id": "4b0c25a0",
   "metadata": {
    "colab": {
     "base_uri": "https://localhost:8080/"
    },
    "id": "cZGRN5caDJTD",
    "outputId": "7c418099-4e19-4816-e353-5e9509b8713d",
    "scrolled": true
   },
   "outputs": [
    {
     "name": "stdout",
     "output_type": "stream",
     "text": [
      "1897387\n"
     ]
    }
   ],
   "source": [
    "# 토큰화된 문장들을 리스트에 담는다.\n",
    "def flatten_token(tokenized_data):\n",
    "    tokens = []\n",
    "    for sentence in tokenized_data:\n",
    "        for word in sentence:\n",
    "            tokens.append(word)\n",
    "    print(len(tokens))\n",
    "    return tokens\n",
    "\n",
    "class0_tokens = flatten_token(class0_tokenized_data)\n",
    "class1_tokens = flatten_token(class1_tokenized_data)\n",
    "class2_tokens = flatten_token(class2_tokenized_data)\n",
    "class3_tokens = flatten_token(class3_tokenized_data)\n",
    "class4_tokens = flatten_token(class4_tokenized_data)"
   ]
  },
  {
   "cell_type": "code",
   "execution_count": 40,
   "id": "62fd2d5c",
   "metadata": {
    "id": "XU96YrO6Dbhy"
   },
   "outputs": [],
   "source": [
    "# 가장 자주 보이는 토큰 수를 보여준다. \n",
    "from collections import Counter\n",
    "\n",
    "def get_most_common_tokens(tokens, num_tokens):\n",
    "    counter = Counter(tokens)\n",
    "    most_common_tokens = counter.most_common(num_tokens)\n",
    "    most_common_tokens = [token for token, _ in most_common_tokens]\n",
    "    return most_common_tokens\n",
    "\n",
    "class0_most_common_tokens = get_most_common_tokens(class0_tokens, 4000)\n",
    "class1_most_common_tokens = get_most_common_tokens(class1_tokens, 4000)\n",
    "class2_most_common_tokens = get_most_common_tokens(class2_tokens, 4000)\n",
    "class3_most_common_tokens = get_most_common_tokens(class3_tokens, 4000)\n",
    "class4_most_common_tokens = get_most_common_tokens(class4_tokens, 4000)\n",
    "# show results in a row\n",
    "print(\"class0_most_common_tokens\", class0_most_common_tokens)\n",
    "print(\"class1_most_common_tokens\", class1_most_common_tokens)\n",
    "print(\"class2_most_common_tokens\", class2_most_common_tokens)\n",
    "print(\"class3_most_common_tokens\", class3_most_common_tokens)\n",
    "print(\"class4_most_common_tokens\", class4_most_common_tokens)"
   ]
  },
  {
   "cell_type": "code",
   "execution_count": 39,
   "id": "eba447f1",
   "metadata": {
    "id": "59wnvYGP9izS",
    "scrolled": false
   },
   "outputs": [],
   "source": [
    "# save tokens in dataframe\n",
    "\n",
    "most_common_tokens = pd.DataFrame(class0_most_common_tokens, columns=['class0_most_common'])\n",
    "most_common_tokens['class1_most_common'] = class1_most_common_tokens\n",
    "most_common_tokens['class2_most_common'] = class2_most_common_tokens\n",
    "most_common_tokens['class3_most_common'] = class3_most_common_tokens\n",
    "most_common_tokens['class4_most_common'] = class4_most_common_tokens"
   ]
  },
  {
   "cell_type": "code",
   "execution_count": null,
   "id": "5848d2af",
   "metadata": {},
   "outputs": [],
   "source": [
    "most_common_tokens.to_csv(data_dir + '/most-common-tokens.csv', index=False)"
   ]
  },
  {
   "cell_type": "code",
   "execution_count": 8,
   "id": "bbe2aa63",
   "metadata": {},
   "outputs": [
    {
     "data": {
      "text/html": [
       "<div>\n",
       "<style scoped>\n",
       "    .dataframe tbody tr th:only-of-type {\n",
       "        vertical-align: middle;\n",
       "    }\n",
       "\n",
       "    .dataframe tbody tr th {\n",
       "        vertical-align: top;\n",
       "    }\n",
       "\n",
       "    .dataframe thead th {\n",
       "        text-align: right;\n",
       "    }\n",
       "</style>\n",
       "<table border=\"1\" class=\"dataframe\">\n",
       "  <thead>\n",
       "    <tr style=\"text-align: right;\">\n",
       "      <th></th>\n",
       "      <th>class0_most_common</th>\n",
       "      <th>class1_most_common</th>\n",
       "      <th>class2_most_common</th>\n",
       "      <th>class3_most_common</th>\n",
       "      <th>class4_most_common</th>\n",
       "    </tr>\n",
       "  </thead>\n",
       "  <tbody>\n",
       "    <tr>\n",
       "      <th>0</th>\n",
       "      <td>어</td>\n",
       "      <td>.</td>\n",
       "      <td>.</td>\n",
       "      <td>.</td>\n",
       "      <td>어</td>\n",
       "    </tr>\n",
       "    <tr>\n",
       "      <th>1</th>\n",
       "      <td>.</td>\n",
       "      <td>어</td>\n",
       "      <td>하</td>\n",
       "      <td>어</td>\n",
       "      <td>하</td>\n",
       "    </tr>\n",
       "    <tr>\n",
       "      <th>2</th>\n",
       "      <td>하</td>\n",
       "      <td>?</td>\n",
       "      <td>?</td>\n",
       "      <td>?</td>\n",
       "      <td>!</td>\n",
       "    </tr>\n",
       "    <tr>\n",
       "      <th>3</th>\n",
       "      <td>?</td>\n",
       "      <td>이</td>\n",
       "      <td>이</td>\n",
       "      <td>하</td>\n",
       "      <td>이</td>\n",
       "    </tr>\n",
       "    <tr>\n",
       "      <th>4</th>\n",
       "      <td>이</td>\n",
       "      <td>아</td>\n",
       "      <td>어</td>\n",
       "      <td>아</td>\n",
       "      <td>?</td>\n",
       "    </tr>\n",
       "    <tr>\n",
       "      <th>5</th>\n",
       "      <td>아</td>\n",
       "      <td>하</td>\n",
       "      <td>아</td>\n",
       "      <td>이</td>\n",
       "      <td>아</td>\n",
       "    </tr>\n",
       "    <tr>\n",
       "      <th>6</th>\n",
       "      <td>는</td>\n",
       "      <td>고</td>\n",
       "      <td>는</td>\n",
       "      <td>는</td>\n",
       "      <td>는</td>\n",
       "    </tr>\n",
       "    <tr>\n",
       "      <th>7</th>\n",
       "      <td>가</td>\n",
       "      <td>가</td>\n",
       "      <td>가</td>\n",
       "      <td>가</td>\n",
       "      <td>.</td>\n",
       "    </tr>\n",
       "    <tr>\n",
       "      <th>8</th>\n",
       "      <td>고</td>\n",
       "      <td>는</td>\n",
       "      <td>고</td>\n",
       "      <td>야</td>\n",
       "      <td>ㄴ</td>\n",
       "    </tr>\n",
       "    <tr>\n",
       "      <th>9</th>\n",
       "      <td>!</td>\n",
       "      <td>돈</td>\n",
       "      <td>ㄴ</td>\n",
       "      <td>고</td>\n",
       "      <td>가</td>\n",
       "    </tr>\n",
       "    <tr>\n",
       "      <th>10</th>\n",
       "      <td>ㄹ</td>\n",
       "      <td>야</td>\n",
       "      <td>네</td>\n",
       "      <td>ㄴ</td>\n",
       "      <td>에</td>\n",
       "    </tr>\n",
       "    <tr>\n",
       "      <th>11</th>\n",
       "      <td>야</td>\n",
       "      <td>ㄴ</td>\n",
       "      <td>ㅂ니다</td>\n",
       "      <td>나</td>\n",
       "      <td>도</td>\n",
       "    </tr>\n",
       "    <tr>\n",
       "      <th>12</th>\n",
       "      <td>었</td>\n",
       "      <td>나</td>\n",
       "      <td>에</td>\n",
       "      <td>었</td>\n",
       "      <td>을</td>\n",
       "    </tr>\n",
       "    <tr>\n",
       "      <th>13</th>\n",
       "      <td>나</td>\n",
       "      <td>에</td>\n",
       "      <td>었</td>\n",
       "      <td>지</td>\n",
       "      <td>었</td>\n",
       "    </tr>\n",
       "    <tr>\n",
       "      <th>14</th>\n",
       "      <td>ㄴ</td>\n",
       "      <td>주</td>\n",
       "      <td>습니다</td>\n",
       "      <td>니</td>\n",
       "      <td>있</td>\n",
       "    </tr>\n",
       "    <tr>\n",
       "      <th>15</th>\n",
       "      <td>을</td>\n",
       "      <td>네</td>\n",
       "      <td>나</td>\n",
       "      <td>네</td>\n",
       "      <td>은</td>\n",
       "    </tr>\n",
       "    <tr>\n",
       "      <th>16</th>\n",
       "      <td>지</td>\n",
       "      <td>없</td>\n",
       "      <td>ㄹ</td>\n",
       "      <td>거</td>\n",
       "      <td>고</td>\n",
       "    </tr>\n",
       "    <tr>\n",
       "      <th>17</th>\n",
       "      <td>거</td>\n",
       "      <td>ㄹ</td>\n",
       "      <td>야</td>\n",
       "      <td>!</td>\n",
       "      <td>ㄹ</td>\n",
       "    </tr>\n",
       "    <tr>\n",
       "      <th>18</th>\n",
       "      <td>에</td>\n",
       "      <td>었</td>\n",
       "      <td>도</td>\n",
       "      <td>도</td>\n",
       "      <td>좋</td>\n",
       "    </tr>\n",
       "    <tr>\n",
       "      <th>19</th>\n",
       "      <td>게</td>\n",
       "      <td>!</td>\n",
       "      <td>거</td>\n",
       "      <td>게</td>\n",
       "      <td>보</td>\n",
       "    </tr>\n",
       "  </tbody>\n",
       "</table>\n",
       "</div>"
      ],
      "text/plain": [
       "   class0_most_common class1_most_common class2_most_common  \\\n",
       "0                   어                  .                  .   \n",
       "1                   .                  어                  하   \n",
       "2                   하                  ?                  ?   \n",
       "3                   ?                  이                  이   \n",
       "4                   이                  아                  어   \n",
       "5                   아                  하                  아   \n",
       "6                   는                  고                  는   \n",
       "7                   가                  가                  가   \n",
       "8                   고                  는                  고   \n",
       "9                   !                  돈                  ㄴ   \n",
       "10                  ㄹ                  야                  네   \n",
       "11                  야                  ㄴ                ㅂ니다   \n",
       "12                  었                  나                  에   \n",
       "13                  나                  에                  었   \n",
       "14                  ㄴ                  주                습니다   \n",
       "15                  을                  네                  나   \n",
       "16                  지                  없                  ㄹ   \n",
       "17                  거                  ㄹ                  야   \n",
       "18                  에                  었                  도   \n",
       "19                  게                  !                  거   \n",
       "\n",
       "   class3_most_common class4_most_common  \n",
       "0                   .                  어  \n",
       "1                   어                  하  \n",
       "2                   ?                  !  \n",
       "3                   하                  이  \n",
       "4                   아                  ?  \n",
       "5                   이                  아  \n",
       "6                   는                  는  \n",
       "7                   가                  .  \n",
       "8                   야                  ㄴ  \n",
       "9                   고                  가  \n",
       "10                  ㄴ                  에  \n",
       "11                  나                  도  \n",
       "12                  었                  을  \n",
       "13                  지                  었  \n",
       "14                  니                  있  \n",
       "15                  네                  은  \n",
       "16                  거                  고  \n",
       "17                  !                  ㄹ  \n",
       "18                  도                  좋  \n",
       "19                  게                  보  "
      ]
     },
     "execution_count": 8,
     "metadata": {},
     "output_type": "execute_result"
    }
   ],
   "source": [
    "# 클래스별 가장 많이 쓰이는 토큰이 저장됨\n",
    "\n",
    "df = pd.read_csv(os.getcwd()  + '/most-common-tokens.csv')\n",
    "df.head(20)"
   ]
  }
 ],
 "metadata": {
  "accelerator": "GPU",
  "colab": {
   "gpuType": "T4",
   "provenance": []
  },
  "kernelspec": {
   "display_name": "Python 3 (ipykernel)",
   "language": "python",
   "name": "python3"
  },
  "language_info": {
   "codemirror_mode": {
    "name": "ipython",
    "version": 3
   },
   "file_extension": ".py",
   "mimetype": "text/x-python",
   "name": "python",
   "nbconvert_exporter": "python",
   "pygments_lexer": "ipython3",
   "version": "3.9.7"
  }
 },
 "nbformat": 4,
 "nbformat_minor": 5
}
